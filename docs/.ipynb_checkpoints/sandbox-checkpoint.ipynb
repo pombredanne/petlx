{
 "metadata": {
  "name": "",
  "signature": "sha256:abd704ac4c6dbd35d9616b4320f07d9e022ae9285a0a2e4c1582a85f72b51126"
 },
 "nbformat": 3,
 "nbformat_minor": 0,
 "worksheets": [
  {
   "cells": [
    {
     "cell_type": "code",
     "collapsed": false,
     "input": [
      "import petl.interactive as etl"
     ],
     "language": "python",
     "metadata": {},
     "outputs": [],
     "prompt_number": 4
    },
    {
     "cell_type": "heading",
     "level": 1,
     "metadata": {},
     "source": [
      "IPython integration"
     ]
    },
    {
     "cell_type": "code",
     "collapsed": false,
     "input": [
      "import petlx.ipython"
     ],
     "language": "python",
     "metadata": {},
     "outputs": [],
     "prompt_number": 1
    },
    {
     "cell_type": "code",
     "collapsed": false,
     "input": [
      "t1 = etl.dummytable(20).addrownumbers()"
     ],
     "language": "python",
     "metadata": {},
     "outputs": [],
     "prompt_number": 2
    },
    {
     "cell_type": "code",
     "collapsed": false,
     "input": [
      "t1"
     ],
     "language": "python",
     "metadata": {},
     "outputs": [
      {
       "html": [
        "<table class='petl'>\r\n",
        "<thead>\r\n",
        "<tr>\r\n",
        "<th>row</th>\r\n",
        "<th>foo</th>\r\n",
        "<th>bar</th>\r\n",
        "<th>baz</th>\r\n",
        "</tr>\r\n",
        "</thead>\r\n",
        "<tbody>\r\n",
        "<tr>\r\n",
        "<td style='text-align: right'>1</td>\r\n",
        "<td style='text-align: right'>71</td>\r\n",
        "<td>oranges</td>\r\n",
        "<td style='text-align: right'>0.402367477237</td>\r\n",
        "</tr>\r\n",
        "<tr>\r\n",
        "<td style='text-align: right'>2</td>\r\n",
        "<td style='text-align: right'>89</td>\r\n",
        "<td>apples</td>\r\n",
        "<td style='text-align: right'>0.417523142787</td>\r\n",
        "</tr>\r\n",
        "<tr>\r\n",
        "<td style='text-align: right'>3</td>\r\n",
        "<td style='text-align: right'>28</td>\r\n",
        "<td>bananas</td>\r\n",
        "<td style='text-align: right'>0.0602181133116</td>\r\n",
        "</tr>\r\n",
        "<tr>\r\n",
        "<td style='text-align: right'>4</td>\r\n",
        "<td style='text-align: right'>88</td>\r\n",
        "<td>pears</td>\r\n",
        "<td style='text-align: right'>0.561123697131</td>\r\n",
        "</tr>\r\n",
        "<tr>\r\n",
        "<td style='text-align: right'>5</td>\r\n",
        "<td style='text-align: right'>4</td>\r\n",
        "<td>oranges</td>\r\n",
        "<td style='text-align: right'>0.764785150353</td>\r\n",
        "</tr>\r\n",
        "</tbody>\r\n",
        "</table>\r\n",
        "<p><strong>...</strong></p>"
       ],
       "metadata": {},
       "output_type": "pyout",
       "prompt_number": 3,
       "text": [
        "+-------+-------+-----------+---------------------+\n",
        "| 'row' | 'foo' | 'bar'     | 'baz'               |\n",
        "+=======+=======+===========+=====================+\n",
        "|     1 |    71 | 'oranges' | 0.40236747723697686 |\n",
        "+-------+-------+-----------+---------------------+\n",
        "|     2 |    89 | 'apples'  |  0.4175231427874222 |\n",
        "+-------+-------+-----------+---------------------+\n",
        "|     3 |    28 | 'bananas' |  0.0602181133116213 |\n",
        "+-------+-------+-----------+---------------------+\n",
        "|     4 |    88 | 'pears'   |  0.5611236971307692 |\n",
        "+-------+-------+-----------+---------------------+\n",
        "|     5 |     4 | 'oranges' |  0.7647851503530928 |\n",
        "+-------+-------+-----------+---------------------+"
       ]
      }
     ],
     "prompt_number": 3
    },
    {
     "cell_type": "code",
     "collapsed": false,
     "input": [
      "t1.display(caption='test')"
     ],
     "language": "python",
     "metadata": {},
     "outputs": [
      {
       "html": [
        "<table class='petl'>\r\n",
        "<caption>test</caption>\r\n",
        "<thead>\r\n",
        "<tr>\r\n",
        "<th>row</th>\r\n",
        "<th>foo</th>\r\n",
        "<th>bar</th>\r\n",
        "<th>baz</th>\r\n",
        "</tr>\r\n",
        "</thead>\r\n",
        "<tbody>\r\n",
        "<tr>\r\n",
        "<td style='text-align: right'>1</td>\r\n",
        "<td style='text-align: right'>71</td>\r\n",
        "<td>oranges</td>\r\n",
        "<td style='text-align: right'>0.402367477237</td>\r\n",
        "</tr>\r\n",
        "<tr>\r\n",
        "<td style='text-align: right'>2</td>\r\n",
        "<td style='text-align: right'>89</td>\r\n",
        "<td>apples</td>\r\n",
        "<td style='text-align: right'>0.417523142787</td>\r\n",
        "</tr>\r\n",
        "<tr>\r\n",
        "<td style='text-align: right'>3</td>\r\n",
        "<td style='text-align: right'>28</td>\r\n",
        "<td>bananas</td>\r\n",
        "<td style='text-align: right'>0.0602181133116</td>\r\n",
        "</tr>\r\n",
        "<tr>\r\n",
        "<td style='text-align: right'>4</td>\r\n",
        "<td style='text-align: right'>88</td>\r\n",
        "<td>pears</td>\r\n",
        "<td style='text-align: right'>0.561123697131</td>\r\n",
        "</tr>\r\n",
        "<tr>\r\n",
        "<td style='text-align: right'>5</td>\r\n",
        "<td style='text-align: right'>4</td>\r\n",
        "<td>oranges</td>\r\n",
        "<td style='text-align: right'>0.764785150353</td>\r\n",
        "</tr>\r\n",
        "</tbody>\r\n",
        "</table>\r\n",
        "<p><strong>...</strong></p>"
       ],
       "metadata": {},
       "output_type": "display_data"
      }
     ],
     "prompt_number": 4
    },
    {
     "cell_type": "code",
     "collapsed": false,
     "input": [
      "t1.display(10, caption='test')"
     ],
     "language": "python",
     "metadata": {},
     "outputs": [
      {
       "html": [
        "<table class='petl'>\r\n",
        "<caption>test</caption>\r\n",
        "<thead>\r\n",
        "<tr>\r\n",
        "<th>row</th>\r\n",
        "<th>foo</th>\r\n",
        "<th>bar</th>\r\n",
        "<th>baz</th>\r\n",
        "</tr>\r\n",
        "</thead>\r\n",
        "<tbody>\r\n",
        "<tr>\r\n",
        "<td style='text-align: right'>1</td>\r\n",
        "<td style='text-align: right'>71</td>\r\n",
        "<td>oranges</td>\r\n",
        "<td style='text-align: right'>0.402367477237</td>\r\n",
        "</tr>\r\n",
        "<tr>\r\n",
        "<td style='text-align: right'>2</td>\r\n",
        "<td style='text-align: right'>89</td>\r\n",
        "<td>apples</td>\r\n",
        "<td style='text-align: right'>0.417523142787</td>\r\n",
        "</tr>\r\n",
        "<tr>\r\n",
        "<td style='text-align: right'>3</td>\r\n",
        "<td style='text-align: right'>28</td>\r\n",
        "<td>bananas</td>\r\n",
        "<td style='text-align: right'>0.0602181133116</td>\r\n",
        "</tr>\r\n",
        "<tr>\r\n",
        "<td style='text-align: right'>4</td>\r\n",
        "<td style='text-align: right'>88</td>\r\n",
        "<td>pears</td>\r\n",
        "<td style='text-align: right'>0.561123697131</td>\r\n",
        "</tr>\r\n",
        "<tr>\r\n",
        "<td style='text-align: right'>5</td>\r\n",
        "<td style='text-align: right'>4</td>\r\n",
        "<td>oranges</td>\r\n",
        "<td style='text-align: right'>0.764785150353</td>\r\n",
        "</tr>\r\n",
        "<tr>\r\n",
        "<td style='text-align: right'>6</td>\r\n",
        "<td style='text-align: right'>43</td>\r\n",
        "<td>bananas</td>\r\n",
        "<td style='text-align: right'>0.0464294571088</td>\r\n",
        "</tr>\r\n",
        "<tr>\r\n",
        "<td style='text-align: right'>7</td>\r\n",
        "<td style='text-align: right'>22</td>\r\n",
        "<td>pears</td>\r\n",
        "<td style='text-align: right'>0.757271408621</td>\r\n",
        "</tr>\r\n",
        "<tr>\r\n",
        "<td style='text-align: right'>8</td>\r\n",
        "<td style='text-align: right'>24</td>\r\n",
        "<td>oranges</td>\r\n",
        "<td style='text-align: right'>0.596559652021</td>\r\n",
        "</tr>\r\n",
        "<tr>\r\n",
        "<td style='text-align: right'>9</td>\r\n",
        "<td style='text-align: right'>26</td>\r\n",
        "<td>apples</td>\r\n",
        "<td style='text-align: right'>0.477344227436</td>\r\n",
        "</tr>\r\n",
        "<tr>\r\n",
        "<td style='text-align: right'>10</td>\r\n",
        "<td style='text-align: right'>43</td>\r\n",
        "<td>bananas</td>\r\n",
        "<td style='text-align: right'>0.0954612611247</td>\r\n",
        "</tr>\r\n",
        "</tbody>\r\n",
        "</table>\r\n",
        "<p><strong>...</strong></p>"
       ],
       "metadata": {},
       "output_type": "display_data"
      }
     ],
     "prompt_number": 5
    },
    {
     "cell_type": "code",
     "collapsed": false,
     "input": [
      "t1.displayall(caption='test')"
     ],
     "language": "python",
     "metadata": {},
     "outputs": [
      {
       "html": [
        "<table class='petl'>\r\n",
        "<caption>test</caption>\r\n",
        "<thead>\r\n",
        "<tr>\r\n",
        "<th>row</th>\r\n",
        "<th>foo</th>\r\n",
        "<th>bar</th>\r\n",
        "<th>baz</th>\r\n",
        "</tr>\r\n",
        "</thead>\r\n",
        "<tbody>\r\n",
        "<tr>\r\n",
        "<td style='text-align: right'>1</td>\r\n",
        "<td style='text-align: right'>71</td>\r\n",
        "<td>oranges</td>\r\n",
        "<td style='text-align: right'>0.402367477237</td>\r\n",
        "</tr>\r\n",
        "<tr>\r\n",
        "<td style='text-align: right'>2</td>\r\n",
        "<td style='text-align: right'>89</td>\r\n",
        "<td>apples</td>\r\n",
        "<td style='text-align: right'>0.417523142787</td>\r\n",
        "</tr>\r\n",
        "<tr>\r\n",
        "<td style='text-align: right'>3</td>\r\n",
        "<td style='text-align: right'>28</td>\r\n",
        "<td>bananas</td>\r\n",
        "<td style='text-align: right'>0.0602181133116</td>\r\n",
        "</tr>\r\n",
        "<tr>\r\n",
        "<td style='text-align: right'>4</td>\r\n",
        "<td style='text-align: right'>88</td>\r\n",
        "<td>pears</td>\r\n",
        "<td style='text-align: right'>0.561123697131</td>\r\n",
        "</tr>\r\n",
        "<tr>\r\n",
        "<td style='text-align: right'>5</td>\r\n",
        "<td style='text-align: right'>4</td>\r\n",
        "<td>oranges</td>\r\n",
        "<td style='text-align: right'>0.764785150353</td>\r\n",
        "</tr>\r\n",
        "<tr>\r\n",
        "<td style='text-align: right'>6</td>\r\n",
        "<td style='text-align: right'>43</td>\r\n",
        "<td>bananas</td>\r\n",
        "<td style='text-align: right'>0.0464294571088</td>\r\n",
        "</tr>\r\n",
        "<tr>\r\n",
        "<td style='text-align: right'>7</td>\r\n",
        "<td style='text-align: right'>22</td>\r\n",
        "<td>pears</td>\r\n",
        "<td style='text-align: right'>0.757271408621</td>\r\n",
        "</tr>\r\n",
        "<tr>\r\n",
        "<td style='text-align: right'>8</td>\r\n",
        "<td style='text-align: right'>24</td>\r\n",
        "<td>oranges</td>\r\n",
        "<td style='text-align: right'>0.596559652021</td>\r\n",
        "</tr>\r\n",
        "<tr>\r\n",
        "<td style='text-align: right'>9</td>\r\n",
        "<td style='text-align: right'>26</td>\r\n",
        "<td>apples</td>\r\n",
        "<td style='text-align: right'>0.477344227436</td>\r\n",
        "</tr>\r\n",
        "<tr>\r\n",
        "<td style='text-align: right'>10</td>\r\n",
        "<td style='text-align: right'>43</td>\r\n",
        "<td>bananas</td>\r\n",
        "<td style='text-align: right'>0.0954612611247</td>\r\n",
        "</tr>\r\n",
        "<tr>\r\n",
        "<td style='text-align: right'>11</td>\r\n",
        "<td style='text-align: right'>89</td>\r\n",
        "<td>apples</td>\r\n",
        "<td style='text-align: right'>0.0792868818018</td>\r\n",
        "</tr>\r\n",
        "<tr>\r\n",
        "<td style='text-align: right'>12</td>\r\n",
        "<td style='text-align: right'>42</td>\r\n",
        "<td>pears</td>\r\n",
        "<td style='text-align: right'>0.529084168277</td>\r\n",
        "</tr>\r\n",
        "<tr>\r\n",
        "<td style='text-align: right'>13</td>\r\n",
        "<td style='text-align: right'>81</td>\r\n",
        "<td>apples</td>\r\n",
        "<td style='text-align: right'>0.419182363618</td>\r\n",
        "</tr>\r\n",
        "<tr>\r\n",
        "<td style='text-align: right'>14</td>\r\n",
        "<td style='text-align: right'>98</td>\r\n",
        "<td>pears</td>\r\n",
        "<td style='text-align: right'>0.279111830532</td>\r\n",
        "</tr>\r\n",
        "<tr>\r\n",
        "<td style='text-align: right'>15</td>\r\n",
        "<td style='text-align: right'>66</td>\r\n",
        "<td>oranges</td>\r\n",
        "<td style='text-align: right'>0.938580433291</td>\r\n",
        "</tr>\r\n",
        "<tr>\r\n",
        "<td style='text-align: right'>16</td>\r\n",
        "<td style='text-align: right'>13</td>\r\n",
        "<td>bananas</td>\r\n",
        "<td style='text-align: right'>0.0449622402491</td>\r\n",
        "</tr>\r\n",
        "<tr>\r\n",
        "<td style='text-align: right'>17</td>\r\n",
        "<td style='text-align: right'>81</td>\r\n",
        "<td>bananas</td>\r\n",
        "<td style='text-align: right'>0.515076621144</td>\r\n",
        "</tr>\r\n",
        "<tr>\r\n",
        "<td style='text-align: right'>18</td>\r\n",
        "<td style='text-align: right'>66</td>\r\n",
        "<td>pears</td>\r\n",
        "<td style='text-align: right'>0.79048251893</td>\r\n",
        "</tr>\r\n",
        "<tr>\r\n",
        "<td style='text-align: right'>19</td>\r\n",
        "<td style='text-align: right'>55</td>\r\n",
        "<td>apples</td>\r\n",
        "<td style='text-align: right'>0.0718022948059</td>\r\n",
        "</tr>\r\n",
        "<tr>\r\n",
        "<td style='text-align: right'>20</td>\r\n",
        "<td style='text-align: right'>8</td>\r\n",
        "<td>apples</td>\r\n",
        "<td style='text-align: right'>0.698252316855</td>\r\n",
        "</tr>\r\n",
        "</tbody>\r\n",
        "</table>\r\n"
       ],
       "metadata": {},
       "output_type": "display_data"
      }
     ],
     "prompt_number": 6
    },
    {
     "cell_type": "heading",
     "level": 1,
     "metadata": {},
     "source": [
      "Numpy integration"
     ]
    },
    {
     "cell_type": "code",
     "collapsed": false,
     "input": [
      "import numpy as np"
     ],
     "language": "python",
     "metadata": {},
     "outputs": [],
     "prompt_number": 1
    },
    {
     "cell_type": "code",
     "collapsed": false,
     "input": [
      "t2 = etl.dummytable(10)"
     ],
     "language": "python",
     "metadata": {},
     "outputs": [],
     "prompt_number": 5
    },
    {
     "cell_type": "code",
     "collapsed": false,
     "input": [
      "dtype = np.rec.array(tuple(t2.data())).dtype\n",
      "dtype"
     ],
     "language": "python",
     "metadata": {},
     "outputs": [
      {
       "metadata": {},
       "output_type": "pyout",
       "prompt_number": 8,
       "text": [
        "dtype([('f0', '<i8'), ('f1', 'S7'), ('f2', '<f8')])"
       ]
      }
     ],
     "prompt_number": 8
    },
    {
     "cell_type": "code",
     "collapsed": false,
     "input": [
      "dtype.names = ['foo', 'bar', 'baz']\n",
      "dtype"
     ],
     "language": "python",
     "metadata": {},
     "outputs": [
      {
       "metadata": {},
       "output_type": "pyout",
       "prompt_number": 9,
       "text": [
        "dtype([('foo', '<i8'), ('bar', 'S7'), ('baz', '<f8')])"
       ]
      }
     ],
     "prompt_number": 9
    },
    {
     "cell_type": "code",
     "collapsed": false,
     "input": [],
     "language": "python",
     "metadata": {},
     "outputs": []
    }
   ],
   "metadata": {}
  }
 ]
}